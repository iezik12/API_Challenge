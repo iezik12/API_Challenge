{
 "cells": [
  {
   "cell_type": "markdown",
   "metadata": {},
   "source": [
    "# WeatherPy\n",
    "----\n",
    "\n",
    "#### Note\n",
    "* Instructions have been included for each segment. You do not have to follow them exactly, but they are included to help you think through the steps."
   ]
  },
  {
   "cell_type": "code",
   "execution_count": 5,
   "metadata": {
    "scrolled": true
   },
   "outputs": [],
   "source": [
    "# Dependencies and Setup\n",
    "import matplotlib.pyplot as plt\n",
    "import pandas as pd\n",
    "import numpy as np\n",
    "import requests\n",
    "import time\n",
    "from scipy.stats import linregress\n",
    "\n",
    "# Import API key\n",
    "from api_keys import weather_api_key\n",
    "\n",
    "# Incorporated citipy to determine city based on latitude and longitude\n",
    "from citipy import citipy \n",
    "\n",
    "# Output File (CSV)\n",
    "output_data_file = \"output_data/cities.csv\"\n",
    "\n",
    "# Range of latitudes and longitudes\n",
    "lat_range = (-90, 90)\n",
    "lng_range = (-180, 180)"
   ]
  },
  {
   "cell_type": "markdown",
   "metadata": {},
   "source": [
    "## Generate Cities List"
   ]
  },
  {
   "cell_type": "code",
   "execution_count": 7,
   "metadata": {},
   "outputs": [
    {
     "name": "stdout",
     "output_type": "stream",
     "text": [
      "<module 'citipy.citipy' from 'C:\\\\Users\\\\iezik\\\\Anaconda3\\\\lib\\\\site-packages\\\\citipy\\\\citipy.py'>\n"
     ]
    }
   ],
   "source": []
  },
  {
   "cell_type": "code",
   "execution_count": 7,
   "metadata": {},
   "outputs": [
    {
     "name": "stdout",
     "output_type": "stream",
     "text": [
      "606\n",
      "606\n"
     ]
    }
   ],
   "source": [
    "# List for holding lat_lngs and cities\n",
    "lat_lngs = []\n",
    "cities = []\n",
    "countries = []\n",
    "\n",
    "# Create a set of random lat and lng combinations\n",
    "lats = np.random.uniform(low=-90.000, high=90.000, size=1500)\n",
    "lngs = np.random.uniform(low=-180.000, high=180.000, size=1500)\n",
    "lat_lngs = zip(lats, lngs)\n",
    "\n",
    "# Identify nearest city for each lat, lng combination\n",
    "for lat_lng in lat_lngs:\n",
    "    city = citipy.nearest_city(lat_lng[0], lat_lng[1]).city_name\n",
    "    country = citipy.nearest_city(lat_lng[0], lat_lng[1]).country_code\n",
    "    # If the city is unique, then add it to a our cities list\n",
    "    if city not in cities:\n",
    "        cities.append(city)\n",
    "        countries.append(country.upper())\n",
    "\n",
    "# Print the city count to confirm sufficient count\n",
    "print(len(cities))\n",
    "\n",
    "#Print the country count to confirm it matches city count\n",
    "print(len(countries))"
   ]
  },
  {
   "cell_type": "code",
   "execution_count": 79,
   "metadata": {},
   "outputs": [
    {
     "name": "stdout",
     "output_type": "stream",
     "text": [
      "{'coord': {'lon': 30.6918, 'lat': 61.7053}, 'weather': [{'id': 600, 'main': 'Snow', 'description': 'light snow', 'icon': '13d'}], 'base': 'stations', 'main': {'temp': 266.83, 'feels_like': 262.19, 'temp_min': 266.83, 'temp_max': 266.83, 'pressure': 995, 'humidity': 97, 'sea_level': 995, 'grnd_level': 994}, 'visibility': 262, 'wind': {'speed': 2.65, 'deg': 232}, 'snow': {'1h': 0.16}, 'clouds': {'all': 100}, 'dt': 1612168228, 'sys': {'country': 'RU', 'sunrise': 1612160461, 'sunset': 1612188031}, 'timezone': 10800, 'id': 490466, 'name': 'Sortavala', 'cod': 200}\n"
     ]
    }
   ],
   "source": [
    "#test api on one city = \"victoria\". to see the keys and values in the data\n",
    "# cities = \"victoria\"\n",
    "# url = \"http://api.openweathermap.org/data/2.5/weather?\"\n",
    "# query_url = f\"{url}appid={weather_api_key}&q={city}\"\n",
    "\n",
    "# response = requests.get(query_url).json() # a dictionary with various information labels of the city\n",
    "# print(response)"
   ]
  },
  {
   "cell_type": "code",
   "execution_count": 8,
   "metadata": {},
   "outputs": [
    {
     "data": {
      "text/html": [
       "<div>\n",
       "<style scoped>\n",
       "    .dataframe tbody tr th:only-of-type {\n",
       "        vertical-align: middle;\n",
       "    }\n",
       "\n",
       "    .dataframe tbody tr th {\n",
       "        vertical-align: top;\n",
       "    }\n",
       "\n",
       "    .dataframe thead th {\n",
       "        text-align: right;\n",
       "    }\n",
       "</style>\n",
       "<table border=\"1\" class=\"dataframe\">\n",
       "  <thead>\n",
       "    <tr style=\"text-align: right;\">\n",
       "      <th></th>\n",
       "      <th>City</th>\n",
       "      <th>Cloudiness</th>\n",
       "      <th>Country</th>\n",
       "      <th>Date</th>\n",
       "      <th>Humidity</th>\n",
       "      <th>Lat</th>\n",
       "      <th>Lng</th>\n",
       "      <th>Max Temp</th>\n",
       "      <th>Windspeed</th>\n",
       "    </tr>\n",
       "  </thead>\n",
       "  <tbody>\n",
       "    <tr>\n",
       "      <th>0</th>\n",
       "      <td>ostersund</td>\n",
       "      <td></td>\n",
       "      <td>SE</td>\n",
       "      <td></td>\n",
       "      <td></td>\n",
       "      <td></td>\n",
       "      <td></td>\n",
       "      <td></td>\n",
       "      <td></td>\n",
       "    </tr>\n",
       "    <tr>\n",
       "      <th>1</th>\n",
       "      <td>ushuaia</td>\n",
       "      <td></td>\n",
       "      <td>AR</td>\n",
       "      <td></td>\n",
       "      <td></td>\n",
       "      <td></td>\n",
       "      <td></td>\n",
       "      <td></td>\n",
       "      <td></td>\n",
       "    </tr>\n",
       "    <tr>\n",
       "      <th>2</th>\n",
       "      <td>tabuk</td>\n",
       "      <td></td>\n",
       "      <td>SA</td>\n",
       "      <td></td>\n",
       "      <td></td>\n",
       "      <td></td>\n",
       "      <td></td>\n",
       "      <td></td>\n",
       "      <td></td>\n",
       "    </tr>\n",
       "    <tr>\n",
       "      <th>3</th>\n",
       "      <td>leningradskiy</td>\n",
       "      <td></td>\n",
       "      <td>RU</td>\n",
       "      <td></td>\n",
       "      <td></td>\n",
       "      <td></td>\n",
       "      <td></td>\n",
       "      <td></td>\n",
       "      <td></td>\n",
       "    </tr>\n",
       "    <tr>\n",
       "      <th>4</th>\n",
       "      <td>bairiki</td>\n",
       "      <td></td>\n",
       "      <td>KI</td>\n",
       "      <td></td>\n",
       "      <td></td>\n",
       "      <td></td>\n",
       "      <td></td>\n",
       "      <td></td>\n",
       "      <td></td>\n",
       "    </tr>\n",
       "  </tbody>\n",
       "</table>\n",
       "</div>"
      ],
      "text/plain": [
       "            City Cloudiness Country Date Humidity Lat Lng Max Temp Windspeed\n",
       "0      ostersund                 SE                                         \n",
       "1        ushuaia                 AR                                         \n",
       "2          tabuk                 SA                                         \n",
       "3  leningradskiy                 RU                                         \n",
       "4        bairiki                 KI                                         "
      ]
     },
     "execution_count": 8,
     "metadata": {},
     "output_type": "execute_result"
    }
   ],
   "source": [
    "#Create a dataframe to store the data\n",
    "city_weather = pd.DataFrame({'City': cities, 'Cloudiness': \"\", 'Country': countries, 'Date': \"\",\n",
    "                            'Humidity': \"\", 'Lat': \"\", 'Lng': \"\", 'Max Temp': \"\", 'Windspeed': \"\"})\n",
    "\n",
    "#Preview the dataframe\n",
    "city_weather.head()"
   ]
  },
  {
   "cell_type": "code",
   "execution_count": null,
   "metadata": {},
   "outputs": [],
   "source": [
    "### api calls and data collection while filitering the data in the calls to make sure all columns will have same length and adding it directly to dataframe"
   ]
  },
  {
   "cell_type": "code",
   "execution_count": 9,
   "metadata": {},
   "outputs": [
    {
     "name": "stdout",
     "output_type": "stream",
     "text": [
      "\n",
      "-----------------------------\n",
      "Beginning Data Retrieval\n",
      "-----------------------------\n",
      "Processing Weather Data for Record 1 of Set 1 | Östersund\n",
      "Processing Weather Data for Record 2 of Set 1 | Ushuaia\n",
      "Processing Weather Data for Record 3 of Set 1 | Tabuk\n",
      "Processing Weather Data for Record 4 of Set 1 | Leningradskiy\n",
      "Processing Weather Data for Record 5 of Set 1 | Bairiki Village\n",
      "Processing Weather Data for Record 6 of Set 1 | Hoquiam\n",
      "Processing Weather Data for Record 7 of Set 1 | Atuona\n",
      "Processing Weather Data for Record 8 of Set 1 | Worcester\n",
      "Processing Weather Data for Record 9 of Set 1 | Busselton\n",
      "Processing Weather Data for Record 10 of Set 1 | Warrnambool\n",
      "Processing Weather Data for Record 11 of Set 1 | Ponta do Sol\n",
      "Processing Weather Data for Record 12 of Set 1 | East London\n",
      "Processing Weather Data for Record 13 of Set 1 | Coyhaique\n",
      "Processing Weather Data for Record 14 of Set 1 | Rikitea\n",
      "Processing Weather Data for Record 15 of Set 1 | Carnarvon\n",
      "Processing Weather Data for Record 16 of Set 1 | Bandrele\n",
      "Processing Weather Data for Record 17 of Set 1 | Torbay\n",
      "Processing Weather Data for Record 18 of Set 1 | Mount Gambier\n",
      "Processing Weather Data for Record 19 of Set 1 | Cape Town\n",
      "Processing Weather Data for Record 20 of Set 1 | Ovalle\n",
      "Processing Weather Data for Record 21 of Set 1 | Mount Isa\n",
      "Processing Weather Data for Record 22 of Set 1 | Tasiilaq\n",
      "Processing Weather Data for Record 23 of Set 1 | Barrow\n",
      "Processing Weather Data for Record 24 of Set 1 | Lodwar\n",
      "City not found....Skipping............\n",
      "Processing Weather Data for Record 25 of Set 1 | Bethel\n",
      "Processing Weather Data for Record 26 of Set 1 | Puerto Palomas\n",
      "Processing Weather Data for Record 27 of Set 1 | Kuching\n",
      "Processing Weather Data for Record 28 of Set 1 | Faanui\n",
      "Processing Weather Data for Record 29 of Set 1 | Esim\n",
      "Processing Weather Data for Record 30 of Set 1 | Petatlán\n",
      "Processing Weather Data for Record 31 of Set 1 | Poplar Bluff\n",
      "Processing Weather Data for Record 32 of Set 1 | Bredasdorp\n",
      "Processing Weather Data for Record 33 of Set 1 | Vaini\n",
      "Processing Weather Data for Record 34 of Set 1 | New Norfolk\n",
      "Processing Weather Data for Record 35 of Set 1 | Hermanus\n",
      "City not found....Skipping............\n",
      "Processing Weather Data for Record 36 of Set 1 | Caravelas\n",
      "Processing Weather Data for Record 37 of Set 1 | Puerto Escondido\n",
      "Processing Weather Data for Record 38 of Set 1 | Yellowknife\n",
      "Processing Weather Data for Record 39 of Set 1 | Albany\n",
      "Processing Weather Data for Record 40 of Set 1 | Gwadar\n",
      "Processing Weather Data for Record 41 of Set 1 | Kamenka\n",
      "Processing Weather Data for Record 42 of Set 1 | Manzanillo\n",
      "Processing Weather Data for Record 43 of Set 1 | North Platte\n",
      "Processing Weather Data for Record 44 of Set 1 | Puerto Ayora\n",
      "City not found....Skipping............\n",
      "City not found....Skipping............\n",
      "Processing Weather Data for Record 45 of Set 1 | Saint Paul Harbor\n",
      "Processing Weather Data for Record 46 of Set 1 | Mahibadhoo\n",
      "Processing Weather Data for Record 47 of Set 1 | Bluff\n",
      "Processing Weather Data for Record 48 of Set 1 | Lueta\n",
      "Processing Weather Data for Record 49 of Set 1 | Port Alfred\n",
      "City not found....Skipping............\n",
      "Processing Weather Data for Record 50 of Set 1 | Shingū\n",
      "City not found....Skipping............\n",
      "Processing Weather Data for Record 1 of Set 2 | Hobart\n",
      "Processing Weather Data for Record 2 of Set 2 | Mitsamiouli\n",
      "Processing Weather Data for Record 3 of Set 2 | Mangalia\n",
      "Processing Weather Data for Record 4 of Set 2 | Chokurdakh\n",
      "Processing Weather Data for Record 5 of Set 2 | Sandpoint\n",
      "Processing Weather Data for Record 6 of Set 2 | Inyonga\n",
      "Processing Weather Data for Record 7 of Set 2 | Severo-Kuril'sk\n",
      "City not found....Skipping............\n",
      "Processing Weather Data for Record 8 of Set 2 | Tuktoyaktuk\n",
      "Processing Weather Data for Record 9 of Set 2 | Chapais\n",
      "Processing Weather Data for Record 10 of Set 2 | Chabahar\n",
      "City not found....Skipping............\n",
      "City not found....Skipping............\n",
      "City not found....Skipping............\n",
      "Processing Weather Data for Record 11 of Set 2 | Shimoda\n",
      "Processing Weather Data for Record 12 of Set 2 | Gronau\n",
      "Processing Weather Data for Record 13 of Set 2 | Tiksi\n",
      "Processing Weather Data for Record 14 of Set 2 | Severo-Yeniseyskiy\n",
      "Processing Weather Data for Record 15 of Set 2 | Butaritari\n",
      "City not found....Skipping............\n",
      "City not found....Skipping............\n",
      "Processing Weather Data for Record 16 of Set 2 | Alto Araguaia\n",
      "Processing Weather Data for Record 17 of Set 2 | Dikson\n",
      "City not found....Skipping............\n",
      "Processing Weather Data for Record 18 of Set 2 | Jiuquan\n",
      "Processing Weather Data for Record 19 of Set 2 | Brae\n",
      "Processing Weather Data for Record 20 of Set 2 | Aklavik\n",
      "Processing Weather Data for Record 21 of Set 2 | Nhulunbuy\n",
      "Processing Weather Data for Record 22 of Set 2 | Limao\n",
      "Processing Weather Data for Record 23 of Set 2 | Palmas de Monte Alto\n",
      "Processing Weather Data for Record 24 of Set 2 | Palmer\n",
      "Processing Weather Data for Record 25 of Set 2 | Nefteyugansk\n",
      "Processing Weather Data for Record 26 of Set 2 | Punta Arenas\n",
      "Processing Weather Data for Record 27 of Set 2 | Mingyue\n",
      "Processing Weather Data for Record 28 of Set 2 | Ol'ga\n",
      "Processing Weather Data for Record 29 of Set 2 | Avarua\n",
      "City not found....Skipping............\n",
      "Processing Weather Data for Record 30 of Set 2 | Söderhamn\n",
      "Processing Weather Data for Record 31 of Set 2 | Hilo\n",
      "Processing Weather Data for Record 32 of Set 2 | Mahébourg\n",
      "Processing Weather Data for Record 33 of Set 2 | Port Macquarie\n",
      "Processing Weather Data for Record 34 of Set 2 | Rajpura\n",
      "Processing Weather Data for Record 35 of Set 2 | Arraial do Cabo\n",
      "Processing Weather Data for Record 36 of Set 2 | Monte Alegre\n",
      "Processing Weather Data for Record 37 of Set 2 | Saldanha\n",
      "Processing Weather Data for Record 38 of Set 2 | Camocim\n",
      "Processing Weather Data for Record 39 of Set 2 | Çarşamba\n",
      "City not found....Skipping............\n",
      "Processing Weather Data for Record 40 of Set 2 | Kapaa\n",
      "Processing Weather Data for Record 41 of Set 2 | Nikolskoye\n",
      "Processing Weather Data for Record 42 of Set 2 | San Patricio\n",
      "Processing Weather Data for Record 43 of Set 2 | Khovd\n",
      "Processing Weather Data for Record 44 of Set 2 | Port Elizabeth\n",
      "Processing Weather Data for Record 45 of Set 2 | Khatanga\n",
      "Processing Weather Data for Record 46 of Set 2 | Jamestown\n",
      "Processing Weather Data for Record 47 of Set 2 | Touros\n",
      "Processing Weather Data for Record 48 of Set 2 | Kaeo\n",
      "Processing Weather Data for Record 49 of Set 2 | Huanren\n",
      "Processing Weather Data for Record 50 of Set 2 | Moose Factory\n",
      "Processing Weather Data for Record 1 of Set 3 | Tura\n",
      "Processing Weather Data for Record 2 of Set 3 | Selikhino\n",
      "Processing Weather Data for Record 3 of Set 3 | Cabo San Lucas\n",
      "Processing Weather Data for Record 4 of Set 3 | Russell\n",
      "Processing Weather Data for Record 5 of Set 3 | Huai Mek\n",
      "Processing Weather Data for Record 6 of Set 3 | Pangnirtung\n",
      "Processing Weather Data for Record 7 of Set 3 | Harper\n",
      "City not found....Skipping............\n",
      "Processing Weather Data for Record 8 of Set 3 | Harar\n",
      "Processing Weather Data for Record 9 of Set 3 | Teya\n",
      "Processing Weather Data for Record 10 of Set 3 | San Ignacio Río Muerto\n",
      "Processing Weather Data for Record 11 of Set 3 | Srebrenica\n",
      "Processing Weather Data for Record 12 of Set 3 | Fort Nelson\n",
      "Processing Weather Data for Record 13 of Set 3 | Hithadhoo\n",
      "Processing Weather Data for Record 14 of Set 3 | Vardø\n",
      "Processing Weather Data for Record 15 of Set 3 | Somerset East\n",
      "Processing Weather Data for Record 16 of Set 3 | Bahādurganj\n",
      "Processing Weather Data for Record 17 of Set 3 | Cherskiy\n",
      "Processing Weather Data for Record 18 of Set 3 | Antofagasta\n",
      "Processing Weather Data for Record 19 of Set 3 | Daru\n",
      "Processing Weather Data for Record 20 of Set 3 | Syracuse\n",
      "Processing Weather Data for Record 21 of Set 3 | Punta Umbría\n",
      "Processing Weather Data for Record 22 of Set 3 | Chara\n",
      "Processing Weather Data for Record 23 of Set 3 | Hermagor\n",
      "Processing Weather Data for Record 24 of Set 3 | Salalah\n",
      "City not found....Skipping............\n",
      "Processing Weather Data for Record 25 of Set 3 | Ramsgate\n",
      "Processing Weather Data for Record 26 of Set 3 | Mar del Plata\n",
      "Processing Weather Data for Record 27 of Set 3 | Upernavik\n",
      "Processing Weather Data for Record 28 of Set 3 | Voznesen'ye\n",
      "Processing Weather Data for Record 29 of Set 3 | Yebaishou\n",
      "Processing Weather Data for Record 30 of Set 3 | Saint-Philippe\n",
      "Processing Weather Data for Record 31 of Set 3 | Longyearbyen\n",
      "Processing Weather Data for Record 32 of Set 3 | Kenosha\n",
      "Processing Weather Data for Record 33 of Set 3 | Norman Wells\n",
      "Processing Weather Data for Record 34 of Set 3 | Lima\n",
      "Processing Weather Data for Record 35 of Set 3 | Laguna\n",
      "Processing Weather Data for Record 36 of Set 3 | Klaksvík\n",
      "Processing Weather Data for Record 37 of Set 3 | Plettenberg Bay\n",
      "Processing Weather Data for Record 38 of Set 3 | Clarence Town\n",
      "Processing Weather Data for Record 39 of Set 3 | The Valley\n",
      "Processing Weather Data for Record 40 of Set 3 | Srednekolymsk\n",
      "Processing Weather Data for Record 41 of Set 3 | Mehamn\n",
      "City not found....Skipping............\n",
      "Processing Weather Data for Record 42 of Set 3 | Dryden\n",
      "Processing Weather Data for Record 43 of Set 3 | Sistranda\n",
      "Processing Weather Data for Record 44 of Set 3 | Saint George\n",
      "Processing Weather Data for Record 45 of Set 3 | Qaanaaq\n",
      "City not found....Skipping............\n",
      "Processing Weather Data for Record 46 of Set 3 | Sitka\n",
      "City not found....Skipping............\n",
      "City not found....Skipping............\n",
      "Processing Weather Data for Record 47 of Set 3 | Souillac\n",
      "Processing Weather Data for Record 48 of Set 3 | Ballina\n",
      "Processing Weather Data for Record 49 of Set 3 | Hofn\n",
      "Processing Weather Data for Record 50 of Set 3 | Cockburn Town\n",
      "Processing Weather Data for Record 1 of Set 4 | Naryan-Mar\n",
      "City not found....Skipping............\n",
      "Processing Weather Data for Record 2 of Set 4 | Talnakh\n",
      "City not found....Skipping............\n",
      "Processing Weather Data for Record 3 of Set 4 | Lebu\n",
      "Processing Weather Data for Record 4 of Set 4 | Xiangfan\n",
      "Processing Weather Data for Record 5 of Set 4 | Balkhash\n",
      "Processing Weather Data for Record 6 of Set 4 | Kruisfontein\n",
      "Processing Weather Data for Record 7 of Set 4 | Florianópolis\n",
      "City not found....Skipping............\n",
      "Processing Weather Data for Record 8 of Set 4 | Praia da Vitória\n",
      "Processing Weather Data for Record 9 of Set 4 | Pizarro\n",
      "Processing Weather Data for Record 10 of Set 4 | Noumea\n",
      "Processing Weather Data for Record 11 of Set 4 | Mayumba\n",
      "Processing Weather Data for Record 12 of Set 4 | Kirakira\n",
      "Processing Weather Data for Record 13 of Set 4 | Vostochnyy\n",
      "Processing Weather Data for Record 14 of Set 4 | Ţahţā\n",
      "Processing Weather Data for Record 15 of Set 4 | Ayagoz\n",
      "Processing Weather Data for Record 16 of Set 4 | Ribeira Grande\n",
      "City not found....Skipping............\n",
      "Processing Weather Data for Record 17 of Set 4 | Ancud\n",
      "Processing Weather Data for Record 18 of Set 4 | Tessalit\n",
      "Processing Weather Data for Record 19 of Set 4 | Mezen'\n",
      "Processing Weather Data for Record 20 of Set 4 | Hambantota\n",
      "Processing Weather Data for Record 21 of Set 4 | Saskylakh\n",
      "Processing Weather Data for Record 22 of Set 4 | Polewali\n",
      "Processing Weather Data for Record 23 of Set 4 | Tichileşti\n",
      "Processing Weather Data for Record 24 of Set 4 | São Filipe\n",
      "Processing Weather Data for Record 25 of Set 4 | Hasaki\n",
      "Processing Weather Data for Record 26 of Set 4 | Mahina\n",
      "Processing Weather Data for Record 27 of Set 4 | Farmington\n",
      "Processing Weather Data for Record 28 of Set 4 | Bayburt\n",
      "Processing Weather Data for Record 29 of Set 4 | Lompoc\n",
      "Processing Weather Data for Record 30 of Set 4 | Inírida\n",
      "City not found....Skipping............\n",
      "Processing Weather Data for Record 31 of Set 4 | Kangaatsiaq\n",
      "Processing Weather Data for Record 32 of Set 4 | Isangel\n",
      "Processing Weather Data for Record 33 of Set 4 | Pechenga\n",
      "Processing Weather Data for Record 34 of Set 4 | Havelock\n",
      "Processing Weather Data for Record 35 of Set 4 | Ostrovnoy\n",
      "Processing Weather Data for Record 36 of Set 4 | Swan Hill\n",
      "Processing Weather Data for Record 37 of Set 4 | Woodward\n",
      "Processing Weather Data for Record 38 of Set 4 | Katsuura\n",
      "Processing Weather Data for Record 39 of Set 4 | Naliya\n",
      "Processing Weather Data for Record 40 of Set 4 | La Ronge\n",
      "Processing Weather Data for Record 41 of Set 4 | Kumul\n",
      "Processing Weather Data for Record 42 of Set 4 | Prince Rupert\n",
      "City not found....Skipping............\n",
      "Processing Weather Data for Record 43 of Set 4 | Gävle\n",
      "City not found....Skipping............\n",
      "Processing Weather Data for Record 44 of Set 4 | Itarema\n",
      "City not found....Skipping............\n",
      "Processing Weather Data for Record 45 of Set 4 | Aykhal\n",
      "Processing Weather Data for Record 46 of Set 4 | Batagay-Alyta\n",
      "Processing Weather Data for Record 47 of Set 4 | Corrente\n",
      "Processing Weather Data for Record 48 of Set 4 | Hokitika\n",
      "Processing Weather Data for Record 49 of Set 4 | Qaqortoq\n",
      "Processing Weather Data for Record 50 of Set 4 | Wana\n",
      "Processing Weather Data for Record 1 of Set 5 | Lüderitz\n",
      "Processing Weather Data for Record 2 of Set 5 | Castro\n",
      "Processing Weather Data for Record 3 of Set 5 | Wuchang\n",
      "Processing Weather Data for Record 4 of Set 5 | Mao\n",
      "City not found....Skipping............\n",
      "Processing Weather Data for Record 5 of Set 5 | Ilulissat\n",
      "Processing Weather Data for Record 6 of Set 5 | Tarko-Sale\n",
      "Processing Weather Data for Record 7 of Set 5 | Arrondissement de Limoges\n",
      "Processing Weather Data for Record 8 of Set 5 | Toropets\n",
      "Processing Weather Data for Record 9 of Set 5 | Samarai\n",
      "Processing Weather Data for Record 10 of Set 5 | São Félix do Xingu\n",
      "Processing Weather Data for Record 11 of Set 5 | Sabha\n",
      "Processing Weather Data for Record 12 of Set 5 | Bubaque\n",
      "Processing Weather Data for Record 13 of Set 5 | Saskatoon\n",
      "Processing Weather Data for Record 14 of Set 5 | Beyneu\n",
      "Processing Weather Data for Record 15 of Set 5 | Kutum\n",
      "Processing Weather Data for Record 16 of Set 5 | Mayo\n",
      "Processing Weather Data for Record 17 of Set 5 | Kasangulu\n",
      "Processing Weather Data for Record 18 of Set 5 | Mishkino\n",
      "Processing Weather Data for Record 19 of Set 5 | Departamento de Maldonado\n",
      "Processing Weather Data for Record 20 of Set 5 | Vanderhoof\n",
      "Processing Weather Data for Record 21 of Set 5 | Ambon City\n",
      "Processing Weather Data for Record 22 of Set 5 | Bengkulu\n",
      "Processing Weather Data for Record 23 of Set 5 | Alyangula\n",
      "City not found....Skipping............\n",
      "Processing Weather Data for Record 24 of Set 5 | Atbasar\n",
      "Processing Weather Data for Record 25 of Set 5 | Padang\n",
      "Processing Weather Data for Record 26 of Set 5 | Nālūt\n",
      "Processing Weather Data for Record 27 of Set 5 | Schrobenhausen\n",
      "Processing Weather Data for Record 28 of Set 5 | Bartica\n",
      "Processing Weather Data for Record 29 of Set 5 | Cap Malheureux\n",
      "Processing Weather Data for Record 30 of Set 5 | Zhangjiakou\n",
      "Processing Weather Data for Record 31 of Set 5 | Te Anau\n",
      "Processing Weather Data for Record 32 of Set 5 | Port Hardy\n",
      "City not found....Skipping............\n",
      "Processing Weather Data for Record 33 of Set 5 | Taoudenni\n",
      "Processing Weather Data for Record 34 of Set 5 | Sinnamary\n",
      "Processing Weather Data for Record 35 of Set 5 | Provideniya\n",
      "Processing Weather Data for Record 36 of Set 5 | Oddur\n",
      "Processing Weather Data for Record 37 of Set 5 | Shilovo\n",
      "Processing Weather Data for Record 38 of Set 5 | Balkanabat\n",
      "Processing Weather Data for Record 39 of Set 5 | Quatre Cocos\n",
      "Processing Weather Data for Record 40 of Set 5 | Manokwari\n",
      "Processing Weather Data for Record 41 of Set 5 | Dimitrovgrad\n",
      "Processing Weather Data for Record 42 of Set 5 | Clyde River\n",
      "Processing Weather Data for Record 43 of Set 5 | Chertkovo\n",
      "Processing Weather Data for Record 44 of Set 5 | San Juan\n",
      "Processing Weather Data for Record 45 of Set 5 | Pevek\n",
      "City not found....Skipping............\n",
      "Processing Weather Data for Record 46 of Set 5 | Garissa\n",
      "Processing Weather Data for Record 47 of Set 5 | Bom Jesus\n",
      "Processing Weather Data for Record 48 of Set 5 | Sulangan\n",
      "Processing Weather Data for Record 49 of Set 5 | Zemio\n",
      "Processing Weather Data for Record 50 of Set 5 | Zhigansk\n",
      "Processing Weather Data for Record 1 of Set 6 | Labuan\n",
      "Processing Weather Data for Record 2 of Set 6 | Cabra\n",
      "Processing Weather Data for Record 3 of Set 6 | Dunedin\n",
      "Processing Weather Data for Record 4 of Set 6 | Constitucion\n",
      "Processing Weather Data for Record 5 of Set 6 | Esperance\n",
      "City not found....Skipping............\n",
      "Processing Weather Data for Record 6 of Set 6 | Loanda\n",
      "Processing Weather Data for Record 7 of Set 6 | Shakawe\n",
      "Processing Weather Data for Record 8 of Set 6 | Sabang\n",
      "Processing Weather Data for Record 9 of Set 6 | Sittwe\n",
      "Processing Weather Data for Record 10 of Set 6 | Udachny\n",
      "Processing Weather Data for Record 11 of Set 6 | Victoria\n",
      "Processing Weather Data for Record 12 of Set 6 | Nanortalik\n",
      "Processing Weather Data for Record 13 of Set 6 | Araouane\n",
      "Processing Weather Data for Record 14 of Set 6 | Mossamedes\n",
      "Processing Weather Data for Record 15 of Set 6 | Tazovsky\n",
      "Processing Weather Data for Record 16 of Set 6 | Fortuna\n",
      "Processing Weather Data for Record 17 of Set 6 | Erenhot\n",
      "City not found....Skipping............\n",
      "Processing Weather Data for Record 18 of Set 6 | Alépé\n",
      "Processing Weather Data for Record 19 of Set 6 | Vostok\n",
      "City not found....Skipping............\n",
      "Processing Weather Data for Record 20 of Set 6 | Örnsköldsvik\n",
      "Processing Weather Data for Record 21 of Set 6 | Ahipara\n",
      "Processing Weather Data for Record 22 of Set 6 | Werota\n",
      "Processing Weather Data for Record 23 of Set 6 | Marrakesh\n",
      "Processing Weather Data for Record 24 of Set 6 | Coxim\n",
      "Processing Weather Data for Record 25 of Set 6 | Richards Bay\n",
      "Processing Weather Data for Record 26 of Set 6 | Georgetown\n",
      "Processing Weather Data for Record 27 of Set 6 | Sabrūm\n",
      "Processing Weather Data for Record 28 of Set 6 | Çerkezköy\n",
      "Processing Weather Data for Record 29 of Set 6 | Tutóia\n",
      "City not found....Skipping............\n",
      "City not found....Skipping............\n",
      "Processing Weather Data for Record 30 of Set 6 | Margate\n",
      "Processing Weather Data for Record 31 of Set 6 | Villefranche-sur-Saône\n",
      "Processing Weather Data for Record 32 of Set 6 | Ambam\n",
      "Processing Weather Data for Record 33 of Set 6 | Wewak\n",
      "Processing Weather Data for Record 34 of Set 6 | Bambous Virieux\n",
      "Processing Weather Data for Record 35 of Set 6 | Mujiayingzi\n",
      "Processing Weather Data for Record 36 of Set 6 | Eilat\n",
      "Processing Weather Data for Record 37 of Set 6 | Katherine\n",
      "City not found....Skipping............\n",
      "Processing Weather Data for Record 38 of Set 6 | Teknāf\n",
      "Processing Weather Data for Record 39 of Set 6 | Narsaq\n",
      "Processing Weather Data for Record 40 of Set 6 | Wawa\n",
      "Processing Weather Data for Record 41 of Set 6 | Puquio\n",
      "Processing Weather Data for Record 42 of Set 6 | Dakar\n",
      "Processing Weather Data for Record 43 of Set 6 | Bantry\n",
      "Processing Weather Data for Record 44 of Set 6 | Necochea\n",
      "Processing Weather Data for Record 45 of Set 6 | Concarneau\n",
      "Processing Weather Data for Record 46 of Set 6 | Ust-Maya\n",
      "Processing Weather Data for Record 47 of Set 6 | Wanning\n",
      "Processing Weather Data for Record 48 of Set 6 | Pisco\n",
      "Processing Weather Data for Record 49 of Set 6 | Rameshki\n",
      "Processing Weather Data for Record 50 of Set 6 | Ambikāpur\n",
      "Processing Weather Data for Record 1 of Set 7 | Isla Vista\n",
      "Processing Weather Data for Record 2 of Set 7 | Fuchu\n",
      "Processing Weather Data for Record 3 of Set 7 | Teguise\n",
      "Processing Weather Data for Record 4 of Set 7 | Humberto de Campos\n",
      "Processing Weather Data for Record 5 of Set 7 | Grindavik\n",
      "Processing Weather Data for Record 6 of Set 7 | Vanimo\n",
      "Processing Weather Data for Record 7 of Set 7 | Baykit\n",
      "Processing Weather Data for Record 8 of Set 7 | Paamiut\n",
      "Processing Weather Data for Record 9 of Set 7 | Yerbogachën\n",
      "Processing Weather Data for Record 10 of Set 7 | Kashan\n",
      "Processing Weather Data for Record 11 of Set 7 | Novy Urengoy\n",
      "Processing Weather Data for Record 12 of Set 7 | Calabozo\n",
      "Processing Weather Data for Record 13 of Set 7 | Praia\n",
      "Processing Weather Data for Record 14 of Set 7 | Hamilton\n",
      "Processing Weather Data for Record 15 of Set 7 | Hualmay\n",
      "Processing Weather Data for Record 16 of Set 7 | Salina Cruz\n",
      "Processing Weather Data for Record 17 of Set 7 | Kaberamaido\n",
      "City not found....Skipping............\n",
      "City not found....Skipping............\n",
      "Processing Weather Data for Record 18 of Set 7 | Vasto\n",
      "Processing Weather Data for Record 19 of Set 7 | Thompson\n",
      "Processing Weather Data for Record 20 of Set 7 | Vao\n",
      "Processing Weather Data for Record 21 of Set 7 | Northam\n",
      "Processing Weather Data for Record 22 of Set 7 | Sibolga\n",
      "Processing Weather Data for Record 23 of Set 7 | Yar-Sale\n",
      "Processing Weather Data for Record 24 of Set 7 | Sovetskiy\n",
      "Processing Weather Data for Record 25 of Set 7 | Petropavlovsk-Kamchatskiy\n",
      "Processing Weather Data for Record 26 of Set 7 | Puerto del Rosario\n",
      "Processing Weather Data for Record 27 of Set 7 | Dzhebariki-Khaya\n",
      "Processing Weather Data for Record 28 of Set 7 | Chui\n",
      "Processing Weather Data for Record 29 of Set 7 | Iskateley\n",
      "Processing Weather Data for Record 30 of Set 7 | Kattivākkam\n",
      "Processing Weather Data for Record 31 of Set 7 | Pop\n",
      "Processing Weather Data for Record 32 of Set 7 | Puerto Peñasco\n",
      "Processing Weather Data for Record 33 of Set 7 | Ziway\n",
      "Processing Weather Data for Record 34 of Set 7 | Kavaratti\n",
      "Processing Weather Data for Record 35 of Set 7 | Korla\n",
      "Processing Weather Data for Record 36 of Set 7 | Bandarbeyla\n",
      "Processing Weather Data for Record 37 of Set 7 | Emerald\n",
      "Processing Weather Data for Record 38 of Set 7 | Sal Rei\n",
      "Processing Weather Data for Record 39 of Set 7 | Huasahuasi\n",
      "Processing Weather Data for Record 40 of Set 7 | Zhangjiakou Shi Xuanhua Qu\n",
      "Processing Weather Data for Record 41 of Set 7 | Burnie\n",
      "Processing Weather Data for Record 42 of Set 7 | Grand-Lahou\n",
      "Processing Weather Data for Record 43 of Set 7 | Cayenne\n",
      "Processing Weather Data for Record 44 of Set 7 | Vila Velha\n",
      "Processing Weather Data for Record 45 of Set 7 | Lavrentiya\n",
      "City not found....Skipping............\n",
      "Processing Weather Data for Record 46 of Set 7 | Bambanglipuro\n",
      "Processing Weather Data for Record 47 of Set 7 | Tautira\n",
      "Processing Weather Data for Record 48 of Set 7 | Unguía\n",
      "Processing Weather Data for Record 49 of Set 7 | Maţāy\n",
      "City not found....Skipping............\n",
      "Processing Weather Data for Record 50 of Set 7 | Santa Marta\n",
      "City not found....Skipping............\n",
      "Processing Weather Data for Record 1 of Set 8 | Nemuro\n",
      "Processing Weather Data for Record 2 of Set 8 | Sioux Lookout\n",
      "Processing Weather Data for Record 3 of Set 8 | Agadez\n",
      "Processing Weather Data for Record 4 of Set 8 | Menongue\n",
      "Processing Weather Data for Record 5 of Set 8 | Quzhou\n",
      "Processing Weather Data for Record 6 of Set 8 | Hargeisa\n",
      "Processing Weather Data for Record 7 of Set 8 | Kahului\n",
      "Processing Weather Data for Record 8 of Set 8 | Ust-Kuyga\n",
      "Processing Weather Data for Record 9 of Set 8 | Opatija\n",
      "Processing Weather Data for Record 10 of Set 8 | Esmeraldas\n",
      "Processing Weather Data for Record 11 of Set 8 | Belyy Yar\n",
      "Processing Weather Data for Record 12 of Set 8 | San Cristobal\n",
      "Processing Weather Data for Record 13 of Set 8 | Ouadda\n",
      "Processing Weather Data for Record 14 of Set 8 | Verāval\n",
      "Processing Weather Data for Record 15 of Set 8 | Katangli\n",
      "Processing Weather Data for Record 16 of Set 8 | Liaocheng\n",
      "City not found....Skipping............\n",
      "City not found....Skipping............\n",
      "Processing Weather Data for Record 17 of Set 8 | Acapulco de Juárez\n",
      "Processing Weather Data for Record 18 of Set 8 | George\n",
      "Processing Weather Data for Record 19 of Set 8 | Vigrestad\n",
      "Processing Weather Data for Record 20 of Set 8 | Sudak\n",
      "Processing Weather Data for Record 21 of Set 8 | Tegul'det\n",
      "Processing Weather Data for Record 22 of Set 8 | Husavik\n",
      "Processing Weather Data for Record 23 of Set 8 | Tairua\n",
      "Processing Weather Data for Record 24 of Set 8 | Tuatapere\n",
      "Processing Weather Data for Record 25 of Set 8 | Bushehr\n",
      "Processing Weather Data for Record 26 of Set 8 | Waterfoot\n",
      "Processing Weather Data for Record 27 of Set 8 | Alice Springs\n",
      "Processing Weather Data for Record 28 of Set 8 | Malé\n",
      "Processing Weather Data for Record 29 of Set 8 | Geraldton\n",
      "City not found....Skipping............\n",
      "Processing Weather Data for Record 30 of Set 8 | Beloha\n",
      "Processing Weather Data for Record 31 of Set 8 | Blagoyevo\n",
      "Processing Weather Data for Record 32 of Set 8 | Dickinson\n",
      "Processing Weather Data for Record 33 of Set 8 | Cidreira\n",
      "Processing Weather Data for Record 34 of Set 8 | Pemangkat\n",
      "Processing Weather Data for Record 35 of Set 8 | Linqiong\n",
      "Processing Weather Data for Record 36 of Set 8 | Quibdó\n",
      "Processing Weather Data for Record 37 of Set 8 | Tirumullaivāsal\n",
      "Processing Weather Data for Record 38 of Set 8 | Mayfield\n",
      "Processing Weather Data for Record 39 of Set 8 | Narasannapeta\n",
      "Processing Weather Data for Record 40 of Set 8 | Bathsheba\n",
      "Processing Weather Data for Record 41 of Set 8 | Lityn\n",
      "Processing Weather Data for Record 42 of Set 8 | Adrar\n",
      "Processing Weather Data for Record 43 of Set 8 | Eyl\n",
      "Processing Weather Data for Record 44 of Set 8 | Borshchiv\n",
      "Processing Weather Data for Record 45 of Set 8 | Kaitangata\n",
      "Processing Weather Data for Record 46 of Set 8 | Sorong\n",
      "Processing Weather Data for Record 47 of Set 8 | Elverum\n",
      "Processing Weather Data for Record 48 of Set 8 | Blackwater\n",
      "Processing Weather Data for Record 49 of Set 8 | Labytnangi\n",
      "Processing Weather Data for Record 50 of Set 8 | Jalu\n",
      "Processing Weather Data for Record 1 of Set 9 | Tabasco\n",
      "Processing Weather Data for Record 2 of Set 9 | Tamuín\n",
      "Processing Weather Data for Record 3 of Set 9 | Portland\n",
      "Processing Weather Data for Record 4 of Set 9 | Khalkhāl\n",
      "Processing Weather Data for Record 5 of Set 9 | Madera\n",
      "Processing Weather Data for Record 6 of Set 9 | Byron Bay\n",
      "Processing Weather Data for Record 7 of Set 9 | Basoko\n",
      "Processing Weather Data for Record 8 of Set 9 | Kidal\n",
      "Processing Weather Data for Record 9 of Set 9 | Wukari\n",
      "Processing Weather Data for Record 10 of Set 9 | Naze\n",
      "Processing Weather Data for Record 11 of Set 9 | Ternate\n",
      "Processing Weather Data for Record 12 of Set 9 | Mandalgovi\n",
      "Processing Weather Data for Record 13 of Set 9 | Zhangye\n",
      "Processing Weather Data for Record 14 of Set 9 | Jaisalmer\n",
      "Processing Weather Data for Record 15 of Set 9 | High Rock\n",
      "Processing Weather Data for Record 16 of Set 9 | Dzhankoy\n",
      "Processing Weather Data for Record 17 of Set 9 | Cuiluan\n",
      "Processing Weather Data for Record 18 of Set 9 | Tiarei\n",
      "Processing Weather Data for Record 19 of Set 9 | Itoman\n",
      "Processing Weather Data for Record 20 of Set 9 | Resistencia\n",
      "Processing Weather Data for Record 21 of Set 9 | Seminole\n",
      "Processing Weather Data for Record 22 of Set 9 | Lamar\n",
      "Processing Weather Data for Record 23 of Set 9 | Qasigiannguit\n",
      "Processing Weather Data for Record 24 of Set 9 | Oodweyne\n",
      "Processing Weather Data for Record 25 of Set 9 | Mizhou\n",
      "Processing Weather Data for Record 26 of Set 9 | Mīzan Teferī\n",
      "Processing Weather Data for Record 27 of Set 9 | Iracoubo\n",
      "Processing Weather Data for Record 28 of Set 9 | Ponta Delgada\n",
      "Processing Weather Data for Record 29 of Set 9 | San Quintín\n",
      "Processing Weather Data for Record 30 of Set 9 | Kavieng\n",
      "Processing Weather Data for Record 31 of Set 9 | Christiana\n",
      "Processing Weather Data for Record 32 of Set 9 | Syas'stroy\n",
      "Processing Weather Data for Record 33 of Set 9 | Otane\n",
      "Processing Weather Data for Record 34 of Set 9 | Dalbandin\n",
      "Processing Weather Data for Record 35 of Set 9 | Olinda\n",
      "Processing Weather Data for Record 36 of Set 9 | Navolato\n",
      "Processing Weather Data for Record 37 of Set 9 | Rio Grande\n",
      "Processing Weather Data for Record 38 of Set 9 | Tual\n",
      "Processing Weather Data for Record 39 of Set 9 | Lorengau\n",
      "Processing Weather Data for Record 40 of Set 9 | Kharod\n",
      "Processing Weather Data for Record 41 of Set 9 | Mableton\n",
      "City not found....Skipping............\n",
      "City not found....Skipping............\n",
      "Processing Weather Data for Record 42 of Set 9 | Dekar\n",
      "Processing Weather Data for Record 43 of Set 9 | Birjand\n",
      "Processing Weather Data for Record 44 of Set 9 | Władysławowo\n",
      "Processing Weather Data for Record 45 of Set 9 | Dullewala\n",
      "City not found....Skipping............\n",
      "Processing Weather Data for Record 46 of Set 9 | Bentonville\n",
      "Processing Weather Data for Record 47 of Set 9 | Snåase\n",
      "City not found....Skipping............\n",
      "Processing Weather Data for Record 48 of Set 9 | Morondava\n",
      "Processing Weather Data for Record 49 of Set 9 | Canton\n",
      "Processing Weather Data for Record 50 of Set 9 | Sumbe\n",
      "Processing Weather Data for Record 1 of Set 10 | São João da Barra\n",
      "Processing Weather Data for Record 2 of Set 10 | Mantua\n",
      "City not found....Skipping............\n",
      "Processing Weather Data for Record 3 of Set 10 | Hudson Bay\n",
      "Processing Weather Data for Record 4 of Set 10 | Safaga\n",
      "Processing Weather Data for Record 5 of Set 10 | Iquique\n",
      "Processing Weather Data for Record 6 of Set 10 | Fergus Falls\n",
      "Processing Weather Data for Record 7 of Set 10 | Pangody\n",
      "Processing Weather Data for Record 8 of Set 10 | Port-Gentil\n",
      "Processing Weather Data for Record 9 of Set 10 | Ciudad Sabinas Hidalgo\n",
      "City not found....Skipping............\n",
      "Processing Weather Data for Record 10 of Set 10 | Līsakovsk\n",
      "Processing Weather Data for Record 11 of Set 10 | Upata\n",
      "Processing Weather Data for Record 12 of Set 10 | Port Blair\n",
      "Processing Weather Data for Record 13 of Set 10 | Camargo\n",
      "Processing Weather Data for Record 14 of Set 10 | San-Pédro\n",
      "Processing Weather Data for Record 15 of Set 10 | Hobyo\n",
      "Processing Weather Data for Record 16 of Set 10 | Mugumu\n",
      "Processing Weather Data for Record 17 of Set 10 | Gaoua\n",
      "Processing Weather Data for Record 18 of Set 10 | Takoradze\n",
      "Processing Weather Data for Record 19 of Set 10 | Brodokalmak\n",
      "Processing Weather Data for Record 20 of Set 10 | Mohpa\n",
      "Processing Weather Data for Record 21 of Set 10 | Saint Augustine\n",
      "Processing Weather Data for Record 22 of Set 10 | Kisanga\n",
      "Processing Weather Data for Record 23 of Set 10 | Osa\n",
      "Processing Weather Data for Record 24 of Set 10 | Svetlogorsk\n",
      "Processing Weather Data for Record 25 of Set 10 | Burlington\n",
      "Processing Weather Data for Record 26 of Set 10 | Hindupur\n",
      "City not found....Skipping............\n",
      "Processing Weather Data for Record 27 of Set 10 | Xai-Xai\n",
      "Processing Weather Data for Record 28 of Set 10 | Jutaí\n",
      "Processing Weather Data for Record 29 of Set 10 | Arlit\n",
      "Processing Weather Data for Record 30 of Set 10 | General Pico\n",
      "Processing Weather Data for Record 31 of Set 10 | Kapuskasing\n",
      "Processing Weather Data for Record 32 of Set 10 | Saint-Joseph\n",
      "Processing Weather Data for Record 33 of Set 10 | Praya\n",
      "Processing Weather Data for Record 34 of Set 10 | Hue\n",
      "Processing Weather Data for Record 35 of Set 10 | Iqaluit\n",
      "Processing Weather Data for Record 36 of Set 10 | Poum\n",
      "Processing Weather Data for Record 37 of Set 10 | Kontagora\n",
      "Processing Weather Data for Record 38 of Set 10 | Rocha\n",
      "Processing Weather Data for Record 39 of Set 10 | Beringovskiy\n",
      "Processing Weather Data for Record 40 of Set 10 | Obo\n",
      "Processing Weather Data for Record 41 of Set 10 | Santa Vitória do Palmar\n",
      "Processing Weather Data for Record 42 of Set 10 | Yenagoa\n",
      "Processing Weather Data for Record 43 of Set 10 | Merowe\n",
      "Processing Weather Data for Record 44 of Set 10 | Malatya Province\n",
      "Processing Weather Data for Record 45 of Set 10 | Augusto Corrêa\n",
      "Processing Weather Data for Record 46 of Set 10 | Meulaboh\n",
      "Processing Weather Data for Record 47 of Set 10 | Yermakovskoye\n",
      "City not found....Skipping............\n",
      "Processing Weather Data for Record 48 of Set 10 | Hervey Bay\n",
      "Processing Weather Data for Record 49 of Set 10 | Bogorodskoye\n",
      "City not found....Skipping............\n",
      "Processing Weather Data for Record 50 of Set 10 | Nome\n",
      "Processing Weather Data for Record 1 of Set 11 | Evensk\n",
      "City not found....Skipping............\n",
      "Processing Weather Data for Record 2 of Set 11 | Palmerston North\n",
      "Processing Weather Data for Record 3 of Set 11 | Indianola\n",
      "Processing Weather Data for Record 4 of Set 11 | Bhatkal\n",
      "Processing Weather Data for Record 5 of Set 11 | Lagoa\n",
      "Processing Weather Data for Record 6 of Set 11 | Aragarças\n",
      "Processing Weather Data for Record 7 of Set 11 | Elbistan\n",
      "Processing Weather Data for Record 8 of Set 11 | Playas\n",
      "Processing Weather Data for Record 9 of Set 11 | Vestmannaeyjar\n",
      "Processing Weather Data for Record 10 of Set 11 | Sadovo\n",
      "Processing Weather Data for Record 11 of Set 11 | Belle Fourche\n",
      "Processing Weather Data for Record 12 of Set 11 | Dingle\n",
      "Processing Weather Data for Record 13 of Set 11 | Banda Aceh\n",
      "Processing Weather Data for Record 14 of Set 11 | Goshogawara\n",
      "Processing Weather Data for Record 15 of Set 11 | Fairbanks\n",
      "Processing Weather Data for Record 16 of Set 11 | Oussouye\n",
      "Processing Weather Data for Record 17 of Set 11 | Vikulovo\n",
      "Processing Weather Data for Record 18 of Set 11 | Abnūb\n",
      "Processing Weather Data for Record 19 of Set 11 | Lucapa\n",
      "Processing Weather Data for Record 20 of Set 11 | Kyren\n",
      "City not found....Skipping............\n",
      "Processing Weather Data for Record 21 of Set 11 | Flinders\n",
      "Processing Weather Data for Record 22 of Set 11 | Kieta\n",
      "Processing Weather Data for Record 23 of Set 11 | Yurty\n",
      "Processing Weather Data for Record 24 of Set 11 | Poronaysk\n",
      "Processing Weather Data for Record 25 of Set 11 | Durban\n",
      "Processing Weather Data for Record 26 of Set 11 | Pokhvistnevo\n",
      "Processing Weather Data for Record 27 of Set 11 | Roald\n",
      "Processing Weather Data for Record 28 of Set 11 | Setermoen\n",
      "Processing Weather Data for Record 29 of Set 11 | Sola\n",
      "Processing Weather Data for Record 30 of Set 11 | Camacha\n",
      "Processing Weather Data for Record 31 of Set 11 | Tynda\n",
      "Processing Weather Data for Record 32 of Set 11 | Umm Kaddadah\n",
      "Processing Weather Data for Record 33 of Set 11 | Kenai\n",
      "Processing Weather Data for Record 34 of Set 11 | Zhuhai\n",
      "Processing Weather Data for Record 35 of Set 11 | Dudinka\n",
      "Processing Weather Data for Record 36 of Set 11 | Ayorou\n",
      "Processing Weather Data for Record 37 of Set 11 | Bilma\n",
      "Processing Weather Data for Record 38 of Set 11 | Esparta\n",
      "Processing Weather Data for Record 39 of Set 11 | Leh\n",
      "Processing Weather Data for Record 40 of Set 11 | Verkhnedneprovskiy\n",
      "City not found....Skipping............\n",
      "Processing Weather Data for Record 41 of Set 11 | Skibbereen\n",
      "Processing Weather Data for Record 42 of Set 11 | Chester\n",
      "Processing Weather Data for Record 43 of Set 11 | Seoul\n",
      "Processing Weather Data for Record 44 of Set 11 | Alta Floresta\n",
      "Processing Weather Data for Record 45 of Set 11 | Ocampo\n",
      "Processing Weather Data for Record 46 of Set 11 | Pokhara\n",
      "Processing Weather Data for Record 47 of Set 11 | Puno\n",
      "\n",
      "-----------------------------\n",
      "Data Retrival Complete\n",
      "-----------------------------\n"
     ]
    }
   ],
   "source": [
    "#Variables to keep track of response number\n",
    "record_num = 1\n",
    "record_set = 1\n",
    "\n",
    "#Base url to make the api call\n",
    "base_url = 'http://api.openweathermap.org/data/2.5/weather?units=imperial&q='\n",
    "\n",
    "#Run the API call for each city\n",
    "print('''\n",
    "-----------------------------\n",
    "Beginning Data Retrieval\n",
    "-----------------------------''')\n",
    "for index, row in city_weather.iterrows(): \n",
    "    #Create the query url for the API call\n",
    "    query_url = base_url + row['City'] + ',' + row['Country'] + '&APPID=' + weather_api_key\n",
    "    \n",
    "    #API call\n",
    "    response = requests.get(query_url).json()\n",
    "    \n",
    "    #Exception script in case the city is not found by the API call\n",
    "    try: \n",
    "        #Meassage to alert the user that the data is being retrieved\n",
    "        print(f'Processing Weather Data for Record {record_num} of Set {record_set} | {response[\"name\"]}')\n",
    "        \n",
    "        #Input data into the dataframe\n",
    "        city_weather.loc[index, 'Cloudiness'] = response['clouds']['all']\n",
    "        city_weather.loc[index, 'Date'] = response['dt']\n",
    "        city_weather.loc[index, 'Humidity'] = response['main']['humidity']\n",
    "        city_weather.loc[index, 'Lat'] = response['coord']['lat']\n",
    "        city_weather.loc[index, 'Lng'] = response['coord']['lon']\n",
    "        city_weather.loc[index, 'Max Temp'] = response['main']['temp_max']\n",
    "        city_weather.loc[index, 'Windspeed'] = response['wind']['speed']\n",
    "        \n",
    "        #Increase the record count\n",
    "        record_num += 1\n",
    "        \n",
    "    except (KeyError, IndexError):\n",
    "        print(\"City not found....Skipping............\")\n",
    "    \n",
    "    #If statement to handle the API call limits\n",
    "    if record_num == 51:\n",
    "        record_set += 1\n",
    "        record_num = 1\n",
    "        time.sleep(60)\n",
    "        \n",
    "print('''\n",
    "-----------------------------\n",
    "Data Retrival Complete\n",
    "-----------------------------''')"
   ]
  },
  {
   "cell_type": "markdown",
   "metadata": {},
   "source": [
    "### Perform API Calls\n",
    "* Perform a weather check on each city using a series of successive API calls.\n",
    "* Include a print log of each city as it'sbeing processed (with the city number and city name).\n"
   ]
  },
  {
   "cell_type": "code",
   "execution_count": 84,
   "metadata": {},
   "outputs": [],
   "source": [
    "#Done Above        "
   ]
  },
  {
   "cell_type": "markdown",
   "metadata": {},
   "source": [
    "### Convert Raw Data to DataFrame\n",
    "* Export the city data into a .csv.\n",
    "* Display the DataFrame"
   ]
  },
  {
   "cell_type": "code",
   "execution_count": 10,
   "metadata": {},
   "outputs": [
    {
     "data": {
      "text/html": [
       "<div>\n",
       "<style scoped>\n",
       "    .dataframe tbody tr th:only-of-type {\n",
       "        vertical-align: middle;\n",
       "    }\n",
       "\n",
       "    .dataframe tbody tr th {\n",
       "        vertical-align: top;\n",
       "    }\n",
       "\n",
       "    .dataframe thead th {\n",
       "        text-align: right;\n",
       "    }\n",
       "</style>\n",
       "<table border=\"1\" class=\"dataframe\">\n",
       "  <thead>\n",
       "    <tr style=\"text-align: right;\">\n",
       "      <th></th>\n",
       "      <th>City</th>\n",
       "      <th>Cloudiness</th>\n",
       "      <th>Country</th>\n",
       "      <th>Date</th>\n",
       "      <th>Humidity</th>\n",
       "      <th>Lat</th>\n",
       "      <th>Lng</th>\n",
       "      <th>Max Temp</th>\n",
       "      <th>Windspeed</th>\n",
       "    </tr>\n",
       "  </thead>\n",
       "  <tbody>\n",
       "    <tr>\n",
       "      <th>0</th>\n",
       "      <td>ostersund</td>\n",
       "      <td>90</td>\n",
       "      <td>SE</td>\n",
       "      <td>1612384661</td>\n",
       "      <td>85</td>\n",
       "      <td>63.1792</td>\n",
       "      <td>14.6357</td>\n",
       "      <td>8.01</td>\n",
       "      <td>5.14</td>\n",
       "    </tr>\n",
       "    <tr>\n",
       "      <th>1</th>\n",
       "      <td>ushuaia</td>\n",
       "      <td>75</td>\n",
       "      <td>AR</td>\n",
       "      <td>1612384506</td>\n",
       "      <td>54</td>\n",
       "      <td>-54.8</td>\n",
       "      <td>-68.3</td>\n",
       "      <td>53.60</td>\n",
       "      <td>18.41</td>\n",
       "    </tr>\n",
       "    <tr>\n",
       "      <th>2</th>\n",
       "      <td>tabuk</td>\n",
       "      <td>75</td>\n",
       "      <td>SA</td>\n",
       "      <td>1612384517</td>\n",
       "      <td>32</td>\n",
       "      <td>28.3833</td>\n",
       "      <td>36.5833</td>\n",
       "      <td>69.80</td>\n",
       "      <td>5.75</td>\n",
       "    </tr>\n",
       "    <tr>\n",
       "      <th>3</th>\n",
       "      <td>leningradskiy</td>\n",
       "      <td>65</td>\n",
       "      <td>RU</td>\n",
       "      <td>1612384661</td>\n",
       "      <td>84</td>\n",
       "      <td>69.3833</td>\n",
       "      <td>178.417</td>\n",
       "      <td>-24.56</td>\n",
       "      <td>11.14</td>\n",
       "    </tr>\n",
       "    <tr>\n",
       "      <th>4</th>\n",
       "      <td>bairiki</td>\n",
       "      <td>20</td>\n",
       "      <td>KI</td>\n",
       "      <td>1612384662</td>\n",
       "      <td>83</td>\n",
       "      <td>1.3292</td>\n",
       "      <td>172.975</td>\n",
       "      <td>80.60</td>\n",
       "      <td>10.36</td>\n",
       "    </tr>\n",
       "    <tr>\n",
       "      <th>5</th>\n",
       "      <td>hoquiam</td>\n",
       "      <td>75</td>\n",
       "      <td>US</td>\n",
       "      <td>1612384662</td>\n",
       "      <td>81</td>\n",
       "      <td>46.9809</td>\n",
       "      <td>-123.889</td>\n",
       "      <td>48.00</td>\n",
       "      <td>1.48</td>\n",
       "    </tr>\n",
       "    <tr>\n",
       "      <th>6</th>\n",
       "      <td>atuona</td>\n",
       "      <td>1</td>\n",
       "      <td>PF</td>\n",
       "      <td>1612384662</td>\n",
       "      <td>72</td>\n",
       "      <td>-9.8</td>\n",
       "      <td>-139.033</td>\n",
       "      <td>77.95</td>\n",
       "      <td>11.83</td>\n",
       "    </tr>\n",
       "    <tr>\n",
       "      <th>7</th>\n",
       "      <td>worcester</td>\n",
       "      <td>0</td>\n",
       "      <td>ZA</td>\n",
       "      <td>1612384662</td>\n",
       "      <td>55</td>\n",
       "      <td>-33.6465</td>\n",
       "      <td>19.4485</td>\n",
       "      <td>66.38</td>\n",
       "      <td>6.04</td>\n",
       "    </tr>\n",
       "    <tr>\n",
       "      <th>8</th>\n",
       "      <td>busselton</td>\n",
       "      <td>0</td>\n",
       "      <td>AU</td>\n",
       "      <td>1612384663</td>\n",
       "      <td>81</td>\n",
       "      <td>-33.65</td>\n",
       "      <td>115.333</td>\n",
       "      <td>51.01</td>\n",
       "      <td>16.67</td>\n",
       "    </tr>\n",
       "    <tr>\n",
       "      <th>9</th>\n",
       "      <td>warrnambool</td>\n",
       "      <td>97</td>\n",
       "      <td>AU</td>\n",
       "      <td>1612384663</td>\n",
       "      <td>89</td>\n",
       "      <td>-38.3833</td>\n",
       "      <td>142.483</td>\n",
       "      <td>57.99</td>\n",
       "      <td>5.01</td>\n",
       "    </tr>\n",
       "  </tbody>\n",
       "</table>\n",
       "</div>"
      ],
      "text/plain": [
       "            City Cloudiness Country        Date Humidity      Lat      Lng  \\\n",
       "0      ostersund         90      SE  1612384661       85  63.1792  14.6357   \n",
       "1        ushuaia         75      AR  1612384506       54    -54.8    -68.3   \n",
       "2          tabuk         75      SA  1612384517       32  28.3833  36.5833   \n",
       "3  leningradskiy         65      RU  1612384661       84  69.3833  178.417   \n",
       "4        bairiki         20      KI  1612384662       83   1.3292  172.975   \n",
       "5        hoquiam         75      US  1612384662       81  46.9809 -123.889   \n",
       "6         atuona          1      PF  1612384662       72     -9.8 -139.033   \n",
       "7      worcester          0      ZA  1612384662       55 -33.6465  19.4485   \n",
       "8      busselton          0      AU  1612384663       81   -33.65  115.333   \n",
       "9    warrnambool         97      AU  1612384663       89 -38.3833  142.483   \n",
       "\n",
       "   Max Temp Windspeed  \n",
       "0      8.01      5.14  \n",
       "1     53.60     18.41  \n",
       "2     69.80      5.75  \n",
       "3    -24.56     11.14  \n",
       "4     80.60     10.36  \n",
       "5     48.00      1.48  \n",
       "6     77.95     11.83  \n",
       "7     66.38      6.04  \n",
       "8     51.01     16.67  \n",
       "9     57.99      5.01  "
      ]
     },
     "execution_count": 10,
     "metadata": {},
     "output_type": "execute_result"
    }
   ],
   "source": [
    "# Dataframe created above before data extraction and was appended using iterrows()\n",
    "#Clean dataframe to remove cities that were not found\n",
    "city_weather['Max Temp'] = city_weather['Max Temp'].replace('', np.nan)\n",
    "city_weather = city_weather.dropna()\n",
    "\n",
    "#Save dataframe\n",
    "city_weather.to_csv(\"C:/Users/iezik/Desktop/USC/usc-la-data-pt-12-2020-u-c/unit_06_python_apis/homework/starter_code/CityWeatherData.csv\", index=False, header=True)\n",
    "\n",
    "#Preview the dataframe\n",
    "city_weather.head(10)"
   ]
  },
  {
   "cell_type": "markdown",
   "metadata": {},
   "source": [
    "## Inspect the data and remove the cities where the humidity > 100%.\n",
    "----\n",
    "Skip this step if there are no cities that have humidity > 100%. "
   ]
  },
  {
   "cell_type": "code",
   "execution_count": 11,
   "metadata": {},
   "outputs": [
    {
     "data": {
      "text/plain": [
       "100"
      ]
     },
     "execution_count": 11,
     "metadata": {},
     "output_type": "execute_result"
    }
   ],
   "source": [
    "## inpection of humidity\n",
    "\n",
    "city_weather['Humidity'].max()\n",
    "\n",
    "# max humidity is 100 there is no city with humdity grater than 100 skipping to plotting "
   ]
  },
  {
   "cell_type": "markdown",
   "metadata": {},
   "source": [
    "## Plotting the Data\n",
    "* Use proper labeling of the plots using plot titles (including date of analysis) and axes labels.\n",
    "* Save the plotted figures as .pngs."
   ]
  },
  {
   "cell_type": "markdown",
   "metadata": {},
   "source": [
    "## Latitude vs. Temperature Plot"
   ]
  },
  {
   "cell_type": "code",
   "execution_count": 12,
   "metadata": {
    "scrolled": true
   },
   "outputs": [
    {
     "data": {
      "image/png": "[encoded data removed]",
      "text/plain": [
       "<Figure size 432x288 with 1 Axes>"
      ]
     },
     "metadata": {},
     "output_type": "display_data"
    }
   ],
   "source": [
    "# Build a scatter plot for each data type\n",
    "plt.scatter(city_weather[\"Lat\"], city_weather[\"Max Temp\"], marker=\"o\")\n",
    "\n",
    "# Incorporate the other graph properties\n",
    "plt.title(f' Latitude vs. Max Temperature {time.strftime(\"%m/%d/%Y\")}')\n",
    "plt.ylabel(\"Temperature (F)\")\n",
    "plt.xlabel(\"Latitude\")\n",
    "plt.grid(True)\n",
    "\n",
    "# Show plot\n",
    "plt.show()"
   ]
  },
  {
   "cell_type": "markdown",
   "metadata": {},
   "source": [
    "## Latitude vs. Humidity Plot"
   ]
  },
  {
   "cell_type": "code",
   "execution_count": 13,
   "metadata": {},
   "outputs": [
    {
     "data": {
      "image/png": "[encoded data removed]",
      "text/plain": [
       "<Figure size 432x288 with 1 Axes>"
      ]
     },
     "metadata": {},
     "output_type": "display_data"
    }
   ],
   "source": [
    "# Build a scatter plot for each data type\n",
    "plt.scatter(city_weather[\"Lat\"], city_weather[\"Humidity\"], marker=\"o\")\n",
    "\n",
    "# Incorporate the other graph properties\n",
    "plt.title(f' Latitude vs. Humidity {time.strftime(\"%m/%d/%Y\")}')\n",
    "plt.ylabel(\"Humidity\")\n",
    "plt.xlabel(\"Latitude\")\n",
    "plt.grid(True)\n",
    "\n",
    "# Show plot\n",
    "plt.show()"
   ]
  },
  {
   "cell_type": "markdown",
   "metadata": {},
   "source": [
    "## Latitude vs. Cloudiness Plot"
   ]
  },
  {
   "cell_type": "code",
   "execution_count": 14,
   "metadata": {},
   "outputs": [
    {
     "data": {
      "image/png": "[encoded data removed]",
      "text/plain": [
       "<Figure size 432x288 with 1 Axes>"
      ]
     },
     "metadata": {},
     "output_type": "display_data"
    }
   ],
   "source": [
    "plt.scatter(city_weather[\"Lat\"], city_weather[\"Cloudiness\"], marker=\"o\")\n",
    "\n",
    "# Incorporate the other graph properties\n",
    "plt.title(f'Latitude vs. Max Cloudiness {time.strftime(\"%m/%d/%Y\")}')\n",
    "plt.ylabel(\"Cloudiness\")\n",
    "plt.xlabel(\"Latitude\")\n",
    "plt.grid(True)\n",
    "\n",
    "# Show plot\n",
    "plt.show()"
   ]
  },
  {
   "cell_type": "markdown",
   "metadata": {},
   "source": [
    "## Latitude vs. Wind Speed Plot"
   ]
  },
  {
   "cell_type": "code",
   "execution_count": 15,
   "metadata": {},
   "outputs": [
    {
     "data": {
      "image/png": "[encoded data removed]",
      "text/plain": [
       "<Figure size 432x288 with 1 Axes>"
      ]
     },
     "metadata": {},
     "output_type": "display_data"
    }
   ],
   "source": [
    "# Build a scatter plot for each data type\n",
    "plt.scatter(city_weather[\"Lat\"], city_weather[\"Windspeed\"], marker=\"o\")\n",
    "\n",
    "# Incorporate the other graph properties\n",
    "plt.title(f' Latitude vs. Wind Speed {time.strftime(\"%m/%d/%Y\")}')\n",
    "plt.ylabel(\"Wind Speed\")\n",
    "plt.xlabel(\"Latitude\")\n",
    "plt.grid(True)\n",
    "\n",
    "# Show plot\n",
    "plt.show()\n"
   ]
  },
  {
   "cell_type": "markdown",
   "metadata": {},
   "source": [
    "## Linear Regression"
   ]
  },
  {
   "cell_type": "code",
   "execution_count": 27,
   "metadata": {},
   "outputs": [],
   "source": [
    "# OPTIONAL: Create a function to create Linear Regression plots\n",
    "def plot_linear_regression(x_values, y_values, title, text_coordinates):\n",
    "    (slope, intercept, rvalue, pvalue, stderr) = linregress(x_values, y_values)\n",
    "    regress_values = x_values * slope + intercept\n",
    "    line_eq = \"y = \" + str(round(slope,2)) + \"x + \" + str(round(intercept,2))\n",
    "    \n",
    "    plt.scatter(x_values,y_values)\n",
    "    plt.plot(x_values,regress_values,\"r-\")\n",
    "    plt.annotate(line_eq,text_coordinates,fontsize=14,color=\"red\")\n",
    "    plt.xlabel(\"Latitude\")\n",
    "    plt.ylabel(title)\n",
    "    print(f\"The r-squared is: {rvalue}\")\n",
    "    plt.show()"
   ]
  },
  {
   "cell_type": "code",
   "execution_count": 25,
   "metadata": {},
   "outputs": [
    {
     "data": {
      "text/html": [
       "<div>\n",
       "<style scoped>\n",
       "    .dataframe tbody tr th:only-of-type {\n",
       "        vertical-align: middle;\n",
       "    }\n",
       "\n",
       "    .dataframe tbody tr th {\n",
       "        vertical-align: top;\n",
       "    }\n",
       "\n",
       "    .dataframe thead th {\n",
       "        text-align: right;\n",
       "    }\n",
       "</style>\n",
       "<table border=\"1\" class=\"dataframe\">\n",
       "  <thead>\n",
       "    <tr style=\"text-align: right;\">\n",
       "      <th></th>\n",
       "      <th>City</th>\n",
       "      <th>Cloudiness</th>\n",
       "      <th>Country</th>\n",
       "      <th>Date</th>\n",
       "      <th>Humidity</th>\n",
       "      <th>Lat</th>\n",
       "      <th>Lng</th>\n",
       "      <th>Max Temp</th>\n",
       "      <th>Windspeed</th>\n",
       "    </tr>\n",
       "  </thead>\n",
       "  <tbody>\n",
       "    <tr>\n",
       "      <th>0</th>\n",
       "      <td>ostersund</td>\n",
       "      <td>90</td>\n",
       "      <td>SE</td>\n",
       "      <td>1612384661</td>\n",
       "      <td>85</td>\n",
       "      <td>63.1792</td>\n",
       "      <td>14.6357</td>\n",
       "      <td>8.01</td>\n",
       "      <td>5.14</td>\n",
       "    </tr>\n",
       "    <tr>\n",
       "      <th>2</th>\n",
       "      <td>tabuk</td>\n",
       "      <td>75</td>\n",
       "      <td>SA</td>\n",
       "      <td>1612384517</td>\n",
       "      <td>32</td>\n",
       "      <td>28.3833</td>\n",
       "      <td>36.5833</td>\n",
       "      <td>69.80</td>\n",
       "      <td>5.75</td>\n",
       "    </tr>\n",
       "    <tr>\n",
       "      <th>3</th>\n",
       "      <td>leningradskiy</td>\n",
       "      <td>65</td>\n",
       "      <td>RU</td>\n",
       "      <td>1612384661</td>\n",
       "      <td>84</td>\n",
       "      <td>69.3833</td>\n",
       "      <td>178.417</td>\n",
       "      <td>-24.56</td>\n",
       "      <td>11.14</td>\n",
       "    </tr>\n",
       "    <tr>\n",
       "      <th>4</th>\n",
       "      <td>bairiki</td>\n",
       "      <td>20</td>\n",
       "      <td>KI</td>\n",
       "      <td>1612384662</td>\n",
       "      <td>83</td>\n",
       "      <td>1.3292</td>\n",
       "      <td>172.975</td>\n",
       "      <td>80.60</td>\n",
       "      <td>10.36</td>\n",
       "    </tr>\n",
       "    <tr>\n",
       "      <th>5</th>\n",
       "      <td>hoquiam</td>\n",
       "      <td>75</td>\n",
       "      <td>US</td>\n",
       "      <td>1612384662</td>\n",
       "      <td>81</td>\n",
       "      <td>46.9809</td>\n",
       "      <td>-123.889</td>\n",
       "      <td>48.00</td>\n",
       "      <td>1.48</td>\n",
       "    </tr>\n",
       "  </tbody>\n",
       "</table>\n",
       "</div>"
      ],
      "text/plain": [
       "            City Cloudiness Country        Date Humidity      Lat      Lng  \\\n",
       "0      ostersund         90      SE  1612384661       85  63.1792  14.6357   \n",
       "2          tabuk         75      SA  1612384517       32  28.3833  36.5833   \n",
       "3  leningradskiy         65      RU  1612384661       84  69.3833  178.417   \n",
       "4        bairiki         20      KI  1612384662       83   1.3292  172.975   \n",
       "5        hoquiam         75      US  1612384662       81  46.9809 -123.889   \n",
       "\n",
       "   Max Temp Windspeed  \n",
       "0      8.01      5.14  \n",
       "2     69.80      5.75  \n",
       "3    -24.56     11.14  \n",
       "4     80.60     10.36  \n",
       "5     48.00      1.48  "
      ]
     },
     "execution_count": 25,
     "metadata": {},
     "output_type": "execute_result"
    }
   ],
   "source": [
    "# Create Northern and Southern Hemisphere DataFrames\n",
    "northlat_df = city_weather.loc[city_weather[\"Lat\"] >= 0,:]\n",
    "southlat_df = city_weather.loc[city_weather[\"Lat\"] < 0,:]\n",
    "\n",
    "northlat_df.head()"
   ]
  },
  {
   "cell_type": "markdown",
   "metadata": {},
   "source": [
    "####  Northern Hemisphere - Max Temp vs. Latitude Linear Regression"
   ]
  },
  {
   "cell_type": "code",
   "execution_count": 37,
   "metadata": {},
   "outputs": [
    {
     "name": "stdout",
     "output_type": "stream",
     "text": [
      "The r-squared is: -0.8724918830671772\n"
     ]
    },
    {
     "name": "stderr",
     "output_type": "stream",
     "text": [
      "C:\\Users\\iezik\\Anaconda3\\lib\\site-packages\\matplotlib\\cbook\\__init__.py:2062: FutureWarning: Support for multi-dimensional indexing (e.g. `obj[:, None]`) is deprecated and will be removed in a future version.  Convert to a numpy array before indexing instead.\n",
      "  x[:, None]\n",
      "C:\\Users\\iezik\\Anaconda3\\lib\\site-packages\\matplotlib\\axes\\_base.py:248: FutureWarning: Support for multi-dimensional indexing (e.g. `obj[:, None]`) is deprecated and will be removed in a future version.  Convert to a numpy array before indexing instead.\n",
      "  x = x[:, np.newaxis]\n",
      "C:\\Users\\iezik\\Anaconda3\\lib\\site-packages\\matplotlib\\axes\\_base.py:250: FutureWarning: Support for multi-dimensional indexing (e.g. `obj[:, None]`) is deprecated and will be removed in a future version.  Convert to a numpy array before indexing instead.\n",
      "  y = y[:, np.newaxis]\n"
     ]
    },
    {
     "data": {
      "image/png": "[encoded data removed]",
      "text/plain": [
       "<Figure size 432x288 with 1 Axes>"
      ]
     },
     "metadata": {},
     "output_type": "display_data"
    }
   ],
   "source": [
    "x_values = northlat_df[\"Lat\"].astype('int')\n",
    "y_values = northlat_df[\"Max Temp\"].astype('int')\n",
    "plot_linear_regression(x_values,y_values,'Max Temp',(4,-20))\n",
    "\n"
   ]
  },
  {
   "cell_type": "markdown",
   "metadata": {},
   "source": [
    "####  Southern Hemisphere - Max Temp vs. Latitude Linear Regression"
   ]
  },
  {
   "cell_type": "code",
   "execution_count": 49,
   "metadata": {},
   "outputs": [
    {
     "name": "stdout",
     "output_type": "stream",
     "text": [
      "The r-squared is: 0.6124673708849403\n"
     ]
    },
    {
     "name": "stderr",
     "output_type": "stream",
     "text": [
      "C:\\Users\\iezik\\Anaconda3\\lib\\site-packages\\matplotlib\\cbook\\__init__.py:2062: FutureWarning: Support for multi-dimensional indexing (e.g. `obj[:, None]`) is deprecated and will be removed in a future version.  Convert to a numpy array before indexing instead.\n",
      "  x[:, None]\n",
      "C:\\Users\\iezik\\Anaconda3\\lib\\site-packages\\matplotlib\\axes\\_base.py:248: FutureWarning: Support for multi-dimensional indexing (e.g. `obj[:, None]`) is deprecated and will be removed in a future version.  Convert to a numpy array before indexing instead.\n",
      "  x = x[:, np.newaxis]\n",
      "C:\\Users\\iezik\\Anaconda3\\lib\\site-packages\\matplotlib\\axes\\_base.py:250: FutureWarning: Support for multi-dimensional indexing (e.g. `obj[:, None]`) is deprecated and will be removed in a future version.  Convert to a numpy array before indexing instead.\n",
      "  y = y[:, np.newaxis]\n"
     ]
    },
    {
     "data": {
      "image/png": "[encoded data removed]",
      "text/plain": [
       "<Figure size 432x288 with 1 Axes>"
      ]
     },
     "metadata": {},
     "output_type": "display_data"
    },
    {
     "name": "stdout",
     "output_type": "stream",
     "text": [
      "The high r value indicates a strong positive correlation between latitude and max temperature.\n"
     ]
    }
   ],
   "source": [
    "x_values = southlat_df[\"Lat\"].astype('int')\n",
    "y_values = southlat_df[\"Max Temp\"].astype('int')\n",
    "plot_linear_regression(x_values,y_values,'Max Temp',(-25,55))\n",
    "\n",
    "print(\"The high r value indicates a strong positive correlation between latitude and max temperature.\")"
   ]
  },
  {
   "cell_type": "markdown",
   "metadata": {},
   "source": [
    "####  Northern Hemisphere - Humidity (%) vs. Latitude Linear Regression"
   ]
  },
  {
   "cell_type": "code",
   "execution_count": 55,
   "metadata": {},
   "outputs": [
    {
     "name": "stdout",
     "output_type": "stream",
     "text": [
      "The r-squared is: 0.40745811403620213\n"
     ]
    },
    {
     "name": "stderr",
     "output_type": "stream",
     "text": [
      "C:\\Users\\iezik\\Anaconda3\\lib\\site-packages\\matplotlib\\cbook\\__init__.py:2062: FutureWarning: Support for multi-dimensional indexing (e.g. `obj[:, None]`) is deprecated and will be removed in a future version.  Convert to a numpy array before indexing instead.\n",
      "  x[:, None]\n",
      "C:\\Users\\iezik\\Anaconda3\\lib\\site-packages\\matplotlib\\axes\\_base.py:248: FutureWarning: Support for multi-dimensional indexing (e.g. `obj[:, None]`) is deprecated and will be removed in a future version.  Convert to a numpy array before indexing instead.\n",
      "  x = x[:, np.newaxis]\n",
      "C:\\Users\\iezik\\Anaconda3\\lib\\site-packages\\matplotlib\\axes\\_base.py:250: FutureWarning: Support for multi-dimensional indexing (e.g. `obj[:, None]`) is deprecated and will be removed in a future version.  Convert to a numpy array before indexing instead.\n",
      "  y = y[:, np.newaxis]\n"
     ]
    },
    {
     "data": {
      "image/png": "[encoded data removed]",
      "text/plain": [
       "<Figure size 432x288 with 1 Axes>"
      ]
     },
     "metadata": {},
     "output_type": "display_data"
    }
   ],
   "source": [
    "x_values = northlat_df[\"Lat\"].astype('int')\n",
    "y_values = northlat_df[\"Humidity\"].astype('int')\n",
    "plot_linear_regression(x_values,y_values,'Humidity',(45,30))\n"
   ]
  },
  {
   "cell_type": "markdown",
   "metadata": {},
   "source": [
    "####  Southern Hemisphere - Humidity (%) vs. Latitude Linear Regression"
   ]
  },
  {
   "cell_type": "code",
   "execution_count": 58,
   "metadata": {},
   "outputs": [
    {
     "name": "stdout",
     "output_type": "stream",
     "text": [
      "The r-squared is: 0.12677348804641383\n"
     ]
    },
    {
     "name": "stderr",
     "output_type": "stream",
     "text": [
      "C:\\Users\\iezik\\Anaconda3\\lib\\site-packages\\matplotlib\\cbook\\__init__.py:2062: FutureWarning: Support for multi-dimensional indexing (e.g. `obj[:, None]`) is deprecated and will be removed in a future version.  Convert to a numpy array before indexing instead.\n",
      "  x[:, None]\n",
      "C:\\Users\\iezik\\Anaconda3\\lib\\site-packages\\matplotlib\\axes\\_base.py:248: FutureWarning: Support for multi-dimensional indexing (e.g. `obj[:, None]`) is deprecated and will be removed in a future version.  Convert to a numpy array before indexing instead.\n",
      "  x = x[:, np.newaxis]\n",
      "C:\\Users\\iezik\\Anaconda3\\lib\\site-packages\\matplotlib\\axes\\_base.py:250: FutureWarning: Support for multi-dimensional indexing (e.g. `obj[:, None]`) is deprecated and will be removed in a future version.  Convert to a numpy array before indexing instead.\n",
      "  y = y[:, np.newaxis]\n"
     ]
    },
    {
     "data": {
      "image/png": "[encoded data removed]",
      "text/plain": [
       "<Figure size 432x288 with 1 Axes>"
      ]
     },
     "metadata": {},
     "output_type": "display_data"
    },
    {
     "name": "stdout",
     "output_type": "stream",
     "text": [
      "The low r values indicate a weak relationship between humidity and latitude.\n"
     ]
    }
   ],
   "source": [
    "x_values = southlat_df[\"Lat\"].astype('int')\n",
    "y_values = southlat_df[\"Humidity\"].astype('int')\n",
    "plot_linear_regression(x_values,y_values,'Humidity',(-25,30))\n",
    "\n",
    "print(\"The low r values indicate a weak relationship between humidity and latitude.\")"
   ]
  },
  {
   "cell_type": "markdown",
   "metadata": {},
   "source": [
    "####  Northern Hemisphere - Cloudiness (%) vs. Latitude Linear Regression"
   ]
  },
  {
   "cell_type": "code",
   "execution_count": 62,
   "metadata": {},
   "outputs": [
    {
     "name": "stdout",
     "output_type": "stream",
     "text": [
      "The r-squared is: 0.34521893183804936\n"
     ]
    },
    {
     "name": "stderr",
     "output_type": "stream",
     "text": [
      "C:\\Users\\iezik\\Anaconda3\\lib\\site-packages\\matplotlib\\cbook\\__init__.py:2062: FutureWarning: Support for multi-dimensional indexing (e.g. `obj[:, None]`) is deprecated and will be removed in a future version.  Convert to a numpy array before indexing instead.\n",
      "  x[:, None]\n",
      "C:\\Users\\iezik\\Anaconda3\\lib\\site-packages\\matplotlib\\axes\\_base.py:248: FutureWarning: Support for multi-dimensional indexing (e.g. `obj[:, None]`) is deprecated and will be removed in a future version.  Convert to a numpy array before indexing instead.\n",
      "  x = x[:, np.newaxis]\n",
      "C:\\Users\\iezik\\Anaconda3\\lib\\site-packages\\matplotlib\\axes\\_base.py:250: FutureWarning: Support for multi-dimensional indexing (e.g. `obj[:, None]`) is deprecated and will be removed in a future version.  Convert to a numpy array before indexing instead.\n",
      "  y = y[:, np.newaxis]\n"
     ]
    },
    {
     "data": {
      "image/png": "[encoded data removed]",
      "text/plain": [
       "<Figure size 432x288 with 1 Axes>"
      ]
     },
     "metadata": {},
     "output_type": "display_data"
    }
   ],
   "source": [
    "x_values = northlat_df[\"Lat\"].astype('int')\n",
    "y_values = northlat_df[\"Cloudiness\"].astype('int')\n",
    "plot_linear_regression(x_values,y_values,'Cloudiness',(45,30))\n"
   ]
  },
  {
   "cell_type": "markdown",
   "metadata": {},
   "source": [
    "####  Southern Hemisphere - Cloudiness (%) vs. Latitude Linear Regression"
   ]
  },
  {
   "cell_type": "code",
   "execution_count": 65,
   "metadata": {},
   "outputs": [
    {
     "name": "stdout",
     "output_type": "stream",
     "text": [
      "The r-squared is: 0.13277011225653365\n"
     ]
    },
    {
     "name": "stderr",
     "output_type": "stream",
     "text": [
      "C:\\Users\\iezik\\Anaconda3\\lib\\site-packages\\matplotlib\\cbook\\__init__.py:2062: FutureWarning: Support for multi-dimensional indexing (e.g. `obj[:, None]`) is deprecated and will be removed in a future version.  Convert to a numpy array before indexing instead.\n",
      "  x[:, None]\n",
      "C:\\Users\\iezik\\Anaconda3\\lib\\site-packages\\matplotlib\\axes\\_base.py:248: FutureWarning: Support for multi-dimensional indexing (e.g. `obj[:, None]`) is deprecated and will be removed in a future version.  Convert to a numpy array before indexing instead.\n",
      "  x = x[:, np.newaxis]\n",
      "C:\\Users\\iezik\\Anaconda3\\lib\\site-packages\\matplotlib\\axes\\_base.py:250: FutureWarning: Support for multi-dimensional indexing (e.g. `obj[:, None]`) is deprecated and will be removed in a future version.  Convert to a numpy array before indexing instead.\n",
      "  y = y[:, np.newaxis]\n"
     ]
    },
    {
     "data": {
      "image/png": "[encoded data removed]",
      "text/plain": [
       "<Figure size 432x288 with 1 Axes>"
      ]
     },
     "metadata": {},
     "output_type": "display_data"
    },
    {
     "name": "stdout",
     "output_type": "stream",
     "text": [
      "The low r values indicate a weak positive relationship between latitude and cloudiness.\n"
     ]
    }
   ],
   "source": [
    "x_values = southlat_df[\"Lat\"].astype('int')\n",
    "y_values = southlat_df[\"Cloudiness\"].astype('int')\n",
    "plot_linear_regression(x_values,y_values,'Cloudiness',(-45,25))\n",
    "\n",
    "print(\"The low r values indicate a weak positive relationship between latitude and cloudiness.\")"
   ]
  },
  {
   "cell_type": "markdown",
   "metadata": {},
   "source": [
    "####  Northern Hemisphere - Wind Speed (mph) vs. Latitude Linear Regression"
   ]
  },
  {
   "cell_type": "code",
   "execution_count": 71,
   "metadata": {},
   "outputs": [
    {
     "name": "stdout",
     "output_type": "stream",
     "text": [
      "The r-squared is: -0.0617480747890036\n"
     ]
    },
    {
     "name": "stderr",
     "output_type": "stream",
     "text": [
      "C:\\Users\\iezik\\Anaconda3\\lib\\site-packages\\matplotlib\\cbook\\__init__.py:2062: FutureWarning: Support for multi-dimensional indexing (e.g. `obj[:, None]`) is deprecated and will be removed in a future version.  Convert to a numpy array before indexing instead.\n",
      "  x[:, None]\n",
      "C:\\Users\\iezik\\Anaconda3\\lib\\site-packages\\matplotlib\\axes\\_base.py:248: FutureWarning: Support for multi-dimensional indexing (e.g. `obj[:, None]`) is deprecated and will be removed in a future version.  Convert to a numpy array before indexing instead.\n",
      "  x = x[:, np.newaxis]\n",
      "C:\\Users\\iezik\\Anaconda3\\lib\\site-packages\\matplotlib\\axes\\_base.py:250: FutureWarning: Support for multi-dimensional indexing (e.g. `obj[:, None]`) is deprecated and will be removed in a future version.  Convert to a numpy array before indexing instead.\n",
      "  y = y[:, np.newaxis]\n"
     ]
    },
    {
     "data": {
      "image/png": "[encoded data removed]",
      "text/plain": [
       "<Figure size 432x288 with 1 Axes>"
      ]
     },
     "metadata": {},
     "output_type": "display_data"
    }
   ],
   "source": [
    "x_values = northlat_df[\"Lat\"].astype('int')\n",
    "y_values = northlat_df[\"Windspeed\"].astype('int')\n",
    "plot_linear_regression(x_values,y_values,'Wind Speed',(5,35))\n"
   ]
  },
  {
   "cell_type": "markdown",
   "metadata": {},
   "source": [
    "####  Southern Hemisphere - Wind Speed (mph) vs. Latitude Linear Regression"
   ]
  },
  {
   "cell_type": "code",
   "execution_count": 75,
   "metadata": {},
   "outputs": [
    {
     "name": "stdout",
     "output_type": "stream",
     "text": [
      "The r-squared is: -0.047201198841990054\n"
     ]
    },
    {
     "name": "stderr",
     "output_type": "stream",
     "text": [
      "C:\\Users\\iezik\\Anaconda3\\lib\\site-packages\\matplotlib\\cbook\\__init__.py:2062: FutureWarning: Support for multi-dimensional indexing (e.g. `obj[:, None]`) is deprecated and will be removed in a future version.  Convert to a numpy array before indexing instead.\n",
      "  x[:, None]\n",
      "C:\\Users\\iezik\\Anaconda3\\lib\\site-packages\\matplotlib\\axes\\_base.py:248: FutureWarning: Support for multi-dimensional indexing (e.g. `obj[:, None]`) is deprecated and will be removed in a future version.  Convert to a numpy array before indexing instead.\n",
      "  x = x[:, np.newaxis]\n",
      "C:\\Users\\iezik\\Anaconda3\\lib\\site-packages\\matplotlib\\axes\\_base.py:250: FutureWarning: Support for multi-dimensional indexing (e.g. `obj[:, None]`) is deprecated and will be removed in a future version.  Convert to a numpy array before indexing instead.\n",
      "  y = y[:, np.newaxis]\n"
     ]
    },
    {
     "data": {
      "image/png": "[encoded data removed]",
      "text/plain": [
       "<Figure size 432x288 with 1 Axes>"
      ]
     },
     "metadata": {},
     "output_type": "display_data"
    },
    {
     "name": "stdout",
     "output_type": "stream",
     "text": [
      "The low r values indicate that there is no real relationship between wind speed and latitude. The difference between the hemispheres doesn't seem to be significant enough to comment upon.\n"
     ]
    }
   ],
   "source": [
    "x_values = southlat_df[\"Lat\"].astype('int')\n",
    "y_values = southlat_df[\"Windspeed\"].astype('int')\n",
    "plot_linear_regression(x_values,y_values,'Wind Speed',(-48,20))\n",
    "\n",
    "print(\"The low r values indicate that there is no real relationship between wind speed and latitude. The difference between the hemispheres doesn't seem to be significant enough to comment upon.\")"
   ]
  },
  {
   "cell_type": "code",
   "execution_count": null,
   "metadata": {},
   "outputs": [],
   "source": []
  }
 ],
 "metadata": {
  "anaconda-cloud": {},
  "kernel_info": {
   "name": "python3"
  },
  "kernelspec": {
   "display_name": "Python 3",
   "language": "python",
   "name": "python3"
  },
  "language_info": {
   "codemirror_mode": {
    "name": "ipython",
    "version": 3
   },
   "file_extension": ".py",
   "mimetype": "text/x-python",
   "name": "python",
   "nbconvert_exporter": "python",
   "pygments_lexer": "ipython3",
   "version": "3.6.5"
  },
  "latex_envs": {
   "LaTeX_envs_menu_present": true,
   "autoclose": false,
   "autocomplete": true,
   "bibliofile": "biblio.bib",
   "cite_by": "apalike",
   "current_citInitial": 1,
   "eqLabelWithNumbers": true,
   "eqNumInitial": 1,
   "hotkeys": {
    "equation": "Ctrl-E",
    "itemize": "Ctrl-I"
   },
   "labels_anchors": false,
   "latex_user_defs": false,
   "report_style_numbering": false,
   "user_envs_cfg": false
  },
  "nteract": {
   "version": "0.12.3"
  }
 },
 "nbformat": 4,
 "nbformat_minor": 2
}
